{
 "cells": [
  {
   "cell_type": "markdown",
   "id": "8e4ed62b-de1c-407a-83a8-579b3268b8eb",
   "metadata": {},
   "source": [
    "# Analyzing Comments on Hacker News\n",
    "\n",
    "**In this project, we will be analyzing comments on the popular technology news aggregator site, [Hacker News.](https://news.ycombinator.com/)  \n",
    "Specifically, we will be exploring two questions:**  \n",
    "\n",
    "* which type of post, `Ask HN` or `Show HN`, receives more comments on average?  \n",
    "* whether posts created at a certain time tend to receive more comments on average?  \n",
    "\n",
    "**The dataset used for this analysis was obtained from the website's official API and includes over 300,000 posts from the past several years.  \n",
    "Each post contains information such as the `title`, `author`, `creation time`, and `number of comments received`.  \n",
    "By examining this data, we can gain insights into how different types of posts and posting times can impact user engagement and participation on the site.**\n"
   ]
  },
  {
   "cell_type": "markdown",
   "id": "273da70f-439c-4f34-a8e8-b2f47a0ff4d3",
   "metadata": {},
   "source": [
    "The following code reads in a CSV file called `\"hacker_news.csv\"` located in the `\"C:\\DataQuest_Projects\\data_files\"` directory. The CSV file is then converted into a list of lists called `\"hn\"` using the `csv.reader()` function from the csv module. Each row of the CSV file becomes a list within the `\"hn\"` list, and each element of the inner lists corresponds to a column in the CSV file.\n"
   ]
  },
  {
   "cell_type": "code",
   "execution_count": 57,
   "id": "c248003e-4d24-49ff-bb82-8b45406206a8",
   "metadata": {},
   "outputs": [],
   "source": [
    "from csv import reader\n",
    "\n",
    "path = \"C:\\DataQuest_Projects\\data_files\"\n",
    "opended_file = open(path+\"\\hacker_news.csv\")\n",
    "read_file = reader(opended_file)\n",
    "hn = list(read_file) "
   ]
  },
  {
   "cell_type": "markdown",
   "id": "1850d849-a4af-45e1-ac54-1dfc20fc79ca",
   "metadata": {},
   "source": [
    "**The following code takes a list of lists called `\"hn\"` and separates the first list (which presumably contains column headers) from the rest of the data. The headers list is assigned to a variable called `\"headers\"`, while the rest of the data is reassigned to `\"hn\"` after omitting the first list.**  \n",
    "  \n",
    "**We confirm by printing out the headers list, and then printing out the first six rows of the remaining hn data using list slicing.**"
   ]
  },
  {
   "cell_type": "code",
   "execution_count": 60,
   "id": "bdc707ba-973b-4a4a-9bae-fa6e22966e0a",
   "metadata": {},
   "outputs": [
    {
     "name": "stdout",
     "output_type": "stream",
     "text": [
      "['id', 'title', 'url', 'num_points', 'num_comments', 'author', 'created_at']\n",
      "\n",
      "[['12224879', 'Interactive Dynamic Video', 'http://www.interactivedynamicvideo.com/', '386', '52', 'ne0phyte', '8/4/2016 11:52'], ['10975351', 'How to Use Open Source and Shut the Fuck Up at the Same Time', 'http://hueniverse.com/2016/01/26/how-to-use-open-source-and-shut-the-fuck-up-at-the-same-time/', '39', '10', 'josep2', '1/26/2016 19:30'], ['11964716', \"Florida DJs May Face Felony for April Fools' Water Joke\", 'http://www.thewire.com/entertainment/2013/04/florida-djs-april-fools-water-joke/63798/', '2', '1', 'vezycash', '6/23/2016 22:20'], ['11919867', 'Technology ventures: From Idea to Enterprise', 'https://www.amazon.com/Technology-Ventures-Enterprise-Thomas-Byers/dp/0073523429', '3', '1', 'hswarna', '6/17/2016 0:01'], ['10301696', 'Note by Note: The Making of Steinway L1037 (2007)', 'http://www.nytimes.com/2007/11/07/movies/07stein.html?_r=0', '8', '2', 'walterbell', '9/30/2015 4:12'], ['10482257', 'Title II kills investment? Comcast and other ISPs are now spending more', 'http://arstechnica.com/business/2015/10/comcast-and-other-isps-boost-network-investment-despite-net-neutrality/', '53', '22', 'Deinos', '10/31/2015 9:48']]\n"
     ]
    }
   ],
   "source": [
    "headers = hn[0]\n",
    "hn = hn[1:]\n",
    "\n",
    "print(headers)\n",
    "print(\"\")\n",
    "print(hn[:6])"
   ]
  },
  {
   "cell_type": "markdown",
   "id": "f5e09370-8dc6-4e50-86df-39e49c315d37",
   "metadata": {},
   "source": [
    "**The following code categorizes posts in the `\"hn\"` dataset into three lists based on their titles: `\"ask_posts\"`, `\"show_posts\"`, and `\"other_posts\"`.**\n",
    "\n",
    "**For each row in the `\"hn\"` dataset, the code converts the title of the post to lowercase letters and checks if it starts with `\"ask hn\"` or `\"show hn\"` using the `startswith()` method. If the post title starts with `\"ask hn\"`, the entire row is added to the `\"ask_posts\"` list. If the post title starts with `\"show hn\"`, the entire row is added to the `\"show_posts\"` list. If the post title does not start with either `\"ask hn\"` or `\"show hn\"`, the entire row is added to the `\"other_posts\"` list.**\n",
    "\n",
    "**Finally, the code prints out the number of posts in each of the three lists using the `len()` function.**"
   ]
  },
  {
   "cell_type": "code",
   "execution_count": 79,
   "id": "69ded19a-e1a7-4767-833d-7201515771e5",
   "metadata": {},
   "outputs": [
    {
     "name": "stdout",
     "output_type": "stream",
     "text": [
      "# of posts in ask hn list 1744\n",
      "# of posts in show hn list 1162\n",
      "# of posts in other list 17194\n"
     ]
    }
   ],
   "source": [
    "ask_posts = []\n",
    "show_posts = []\n",
    "other_posts = []\n",
    "\n",
    "for row in hn:\n",
    "    title = row[1].lower()\n",
    "    if title.startswith(\"ask hn\"):\n",
    "        ask_posts.append(row)\n",
    "    elif title.startswith(\"show hn\"):\n",
    "        show_posts.append(row)\n",
    "    else:\n",
    "        other_posts.append(row)\n",
    "\n",
    "\n",
    "print(\"# of posts in ask hn list\",len(ask_posts))\n",
    "print(\"# of posts in show hn list\",len(show_posts))\n",
    "print(\"# of posts in other list\",len(other_posts))\n",
    "        "
   ]
  },
  {
   "cell_type": "markdown",
   "id": "5199d220-1719-43f6-b9c3-bd88a4a219d3",
   "metadata": {},
   "source": [
    "**The following code calculates the average number of comments per post for posts in the `\"ask_posts\"` list.**\n",
    "\n",
    "**First, the code initializes a variable called `\"total_ask_comments\"` to zero. It then loops through each row in the `\"ask_posts\"` list and extracts the number of comments for that post from the fifth element of the row (index 4). The number of comments is converted to an integer using the `int()` function. The number of comments is then added to the `\"total_ask_comments\"` variable.**\n",
    "\n",
    "**After looping through all the rows in the `\"ask_posts\"` list, the code calculates the average number of comments per post by dividing the `\"total_ask_comments\"` variable by the number of rows in the `\"ask_posts\"` list using the `len()` function. The result is assigned to a variable called `\"ave_ask_comments\"`.**\n",
    "\n",
    "**Finally, the code prints out the average number of comments per post for the `\"ask_posts\"` list, rounded to two decimal places using the `round()` function.**"
   ]
  },
  {
   "cell_type": "code",
   "execution_count": 88,
   "id": "5ccc0ace-c57a-49ed-a68b-8ef6aeaca88e",
   "metadata": {},
   "outputs": [
    {
     "name": "stdout",
     "output_type": "stream",
     "text": [
      "Average number of comments per post for 'Ask HN' 14.04\n"
     ]
    }
   ],
   "source": [
    "total_ask_comments = 0\n",
    "\n",
    "for row in ask_posts:\n",
    "    num_comments = int(row[4])\n",
    "    total_ask_comments += num_comments\n",
    "    \n",
    "ave_ask_comments = total_ask_comments / len(ask_posts)\n",
    "print(\"Average number of comments per post for 'Ask HN'\", round(ave_ask_comments,2))"
   ]
  },
  {
   "cell_type": "markdown",
   "id": "b505832a-1f2c-42ca-a932-7655eaa9ed82",
   "metadata": {},
   "source": [
    "**This following code calculates the average number of comments per post for posts in the `\"show_posts\"` list.**\n",
    "\n",
    "**First, the code initializes a variable called `\"total_show_comments\"` to zero. It then loops through each row in the `\"show_posts\"` list and extracts the number of comments for that post from the fifth element of the row (index 4). The number of comments is converted to an integer using the `int()` function. The number of comments is then added to the `\"total_show_comments\"` variable.**\n",
    "\n",
    "**After looping through all the rows in the `\"show_posts\"` list, the code calculates the average number of comments per post by dividing the `\"total_show_comments\"` variable by the number of rows in the `\"show_posts\"` list using the `len()` function. The result is assigned to a variable called `\"ave_show_comments\"`.**\n",
    "\n",
    "**Finally, the code prints out the average number of comments per post for the `\"show_posts\"` list, rounded to two decimal places using the `round() `function.**"
   ]
  },
  {
   "cell_type": "code",
   "execution_count": 91,
   "id": "b2ef716c-4450-4382-aa58-8c17184e645d",
   "metadata": {},
   "outputs": [
    {
     "name": "stdout",
     "output_type": "stream",
     "text": [
      "Average number of comments per post for 'Show HN' 10.32\n"
     ]
    }
   ],
   "source": [
    "total_show_comments = 0\n",
    "\n",
    "for row in show_posts:\n",
    "    num_comments = int(row[4])\n",
    "    total_show_comments += num_comments\n",
    "    \n",
    "ave_show_comments = total_show_comments / len(show_posts)\n",
    "print(\"Average number of comments per post for 'Show HN'\", round(ave_show_comments,2))"
   ]
  },
  {
   "cell_type": "markdown",
   "id": "8669868d-566c-47c4-a08b-8ff8b7f3cd5b",
   "metadata": {},
   "source": [
    "# Analysis of Average Number of Comments for 'Ask HN' and 'Show HN' Posts\n",
    "\n",
    "**After analyzing the data, we found that `Ask HN` posts receive more comments on average compared to `Show HN` posts. \n",
    "The average number of comments per `Ask HN` post is `14.04`, while the average number of comments per `Show HN` post is `10.32`.**\n",
    "\n",
    "**This finding suggests that `Ask HN` posts tend to generate more engagement and participation from users compared to `Show HN` posts. One possible explanation for this is that `Ask HN` posts invite users to share their opinions, experiences, and knowledge, which can stimulate discussion and debate. On the other hand, `Show HN` posts typically showcase a product or project, which may not necessarily encourage users to engage in a conversation or share their thoughts.**\n"
   ]
  },
  {
   "cell_type": "markdown",
   "id": "d14badbb-26af-44ce-95a2-c398b91ab339",
   "metadata": {},
   "source": [
    "# Determine if ask posts created at a certain time are more likely to attract comments. \n",
    "## We'll use the following steps to perform this analysis:\n",
    "\n",
    "* Calculate the number of ask posts created in each hour of the day, along with the number of comments received.\n",
    "* Calculate the average number of comments ask posts receive by hour created.\n"
   ]
  },
  {
   "cell_type": "code",
   "execution_count": 139,
   "id": "5d9ea825-1448-4c30-8216-342004781ef1",
   "metadata": {},
   "outputs": [],
   "source": [
    "import datetime as dt\n",
    "\n",
    "result_list = []\n",
    "\n",
    "for row in ask_posts:\n",
    "    date_created = row[6]\n",
    "    num_comments = int(row[4])\n",
    "    result_list.append([date_created, num_comments])\n",
    "    \n",
    "    \n",
    "counts_by_hour = {}\n",
    "comments_by_hour = {}\n",
    "\n",
    "for row in result_list:\n",
    "    num_comments = row[1]\n",
    "    hour =  dt.datetime.strptime(row[0], \"%m/%d/%Y %H:%M\") \n",
    "    hour = hour.strftime(\"%H\")\n",
    "    if hour not in counts_by_hour:\n",
    "        counts_by_hour[hour] = 1\n",
    "        comments_by_hour[hour] = num_comments\n",
    "    else:\n",
    "        counts_by_hour[hour] += 1\n",
    "        comments_by_hour[hour] += num_comments\n",
    "        \n",
    "        "
   ]
  },
  {
   "cell_type": "code",
   "execution_count": 144,
   "id": "537f3a5f-1363-4f26-a800-6e454e3dd300",
   "metadata": {},
   "outputs": [
    {
     "data": {
      "text/plain": [
       "[['09', 5.5777777777777775],\n",
       " ['13', 14.741176470588234],\n",
       " ['10', 13.440677966101696],\n",
       " ['14', 13.233644859813085],\n",
       " ['16', 16.796296296296298],\n",
       " ['23', 7.985294117647059],\n",
       " ['12', 9.41095890410959],\n",
       " ['17', 11.46],\n",
       " ['15', 38.5948275862069],\n",
       " ['21', 16.009174311926607],\n",
       " ['20', 21.525],\n",
       " ['02', 23.810344827586206],\n",
       " ['18', 13.20183486238532],\n",
       " ['03', 7.796296296296297],\n",
       " ['05', 10.08695652173913],\n",
       " ['19', 10.8],\n",
       " ['01', 11.383333333333333],\n",
       " ['22', 6.746478873239437],\n",
       " ['08', 10.25],\n",
       " ['04', 7.170212765957447],\n",
       " ['00', 8.127272727272727],\n",
       " ['06', 9.022727272727273],\n",
       " ['07', 7.852941176470588],\n",
       " ['11', 11.051724137931034]]"
      ]
     },
     "execution_count": 144,
     "metadata": {},
     "output_type": "execute_result"
    }
   ],
   "source": [
    "avg_by_hour = []\n",
    "\n",
    "for hour in counts_by_hour:\n",
    "    avg_by_hour.append([hour, int(comments_by_hour[hour]) / int(counts_by_hour[hour])])\n",
    "\n",
    "avg_by_hour"
   ]
  },
  {
   "cell_type": "code",
   "execution_count": 165,
   "id": "fe5cefd6-5455-44dd-a805-4074bf6c4bff",
   "metadata": {},
   "outputs": [
    {
     "name": "stdout",
     "output_type": "stream",
     "text": [
      "Top 5 Hours for Ask Posts Comments\n",
      "15:00: 38.59 average comments per post\n",
      "02:00: 23.81 average comments per post\n",
      "20:00: 21.52 average comments per post\n",
      "16:00: 16.80 average comments per post\n",
      "21:00: 16.01 average comments per post\n"
     ]
    }
   ],
   "source": [
    "swap_avg_by_hour = []\n",
    "\n",
    "for row in avg_by_hour:\n",
    "    swap_avg_by_hour.append([row[1], row[0]])\n",
    "\n",
    "sorted_swap = sorted(swap_avg_by_hour, reverse=True)\n",
    "\n",
    "print(\"Top 5 Hours for Ask Posts Comments\")\n",
    "\n",
    "for row in sorted_swap[:5]:\n",
    "    hour = dt.datetime.strptime(row[1], \"%H\")\n",
    "    hour = hour.strftime(\"%H:%M\")\n",
    "    average = row[0]\n",
    "    print(\"{time}: {avg:.2f} average comments per post\".format(time=hour, avg=average))"
   ]
  },
  {
   "cell_type": "markdown",
   "id": "475d7860-8be1-4597-a30e-177aa903d2f9",
   "metadata": {},
   "source": [
    "# Optimal Hours for Ask Posts: Analysis of Top 5 Hours for Maximum Comments\n",
    "\n",
    "**According to the given outcome, the top 5 hours for Ask Posts comments are 15:00, 02:00, 20:00, 16:00, and 21:00, with the highest average comments per post received at 15:00 with an average of 38.59 comments per post.**\n",
    "\n",
    "**Therefore, to increase the chances of receiving comments on a post, it is recommended to create an Ask post during the peak hours.**\n",
    "\n",
    "**It is important to note that the given outcome is based on the data of Ask posts only, and the peak hours may vary for other types of posts. However, this information can be used as a general guideline to maximize the chances of receiving high comments on Ask posts.**"
   ]
  }
 ],
 "metadata": {
  "kernelspec": {
   "display_name": "Python 3 (ipykernel)",
   "language": "python",
   "name": "python3"
  },
  "language_info": {
   "codemirror_mode": {
    "name": "ipython",
    "version": 3
   },
   "file_extension": ".py",
   "mimetype": "text/x-python",
   "name": "python",
   "nbconvert_exporter": "python",
   "pygments_lexer": "ipython3",
   "version": "3.10.7"
  }
 },
 "nbformat": 4,
 "nbformat_minor": 5
}
